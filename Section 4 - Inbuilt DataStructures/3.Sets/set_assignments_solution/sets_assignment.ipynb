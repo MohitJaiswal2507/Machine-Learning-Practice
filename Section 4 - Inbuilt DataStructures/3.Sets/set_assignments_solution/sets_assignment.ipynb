{
 "cells": [
  {
   "cell_type": "markdown",
   "metadata": {},
   "source": [
    "# Module 3: Data Structures Assignments\n",
    "## Lesson 3.3: Sets\n",
    "### Assignment 1: Creating and Accessing Sets\n",
    "\n",
    "Create a set with the first 10 positive integers. Print the set.\n",
    "\n",
    "### Assignment 2: Adding and Removing Elements\n",
    "\n",
    "Add the number 11 to the set created in Assignment 1. Then remove the number 1 from the set. Print the modified set.\n",
    "\n",
    "### Assignment 3: Set Operations\n",
    "\n",
    "Create two sets: one with the first 5 positive integers and another with the first 5 even integers. Perform and print the results of union, intersection, difference, and symmetric difference operations on these sets.\n",
    "\n",
    "### Assignment 4: Set Comprehensions\n",
    "\n",
    "Create a new set containing the squares of the first 10 positive integers using a set comprehension. Print the new set.\n",
    "\n",
    "### Assignment 5: Filtering Sets\n",
    "\n",
    "Create a new set containing only the even numbers from the set created in Assignment 1 using a set comprehension. Print the new set.\n",
    "\n",
    "### Assignment 6: Set Methods\n",
    "\n",
    "Create a set with duplicate elements and remove the duplicates using set methods. Print the modified set.\n",
    "\n",
    "### Assignment 7: Subsets and Supersets\n",
    "\n",
    "Create two sets: one with the first 5 positive integers and another with the first 3 positive integers. Check if the second set is a subset of the first set and if the first set is a superset of the second set. Print the results.\n",
    "\n",
    "### Assignment 8: Frozenset\n",
    "\n",
    "Create a frozenset with the first 5 positive integers. Print the frozenset.\n",
    "\n",
    "### Assignment 9: Set and List Conversion\n",
    "\n",
    "Create a set with the first 5 positive integers. Convert it to a list, append the number 6, and convert it back to a set. Print the resulting set.\n",
    "\n",
    "### Assignment 10: Set and Dictionary\n",
    "\n",
    "Create a dictionary with set keys and integer values. Print the dictionary.\n",
    "\n",
    "### Assignment 11: Iterating Over Sets\n",
    "\n",
    "Create a set and iterate over the elements, printing each element.\n",
    "\n",
    "### Assignment 12: Removing Elements from Sets\n",
    "\n",
    "Create a set and remove elements from it until it is empty. Print the set after each removal.\n",
    "\n",
    "### Assignment 13: Set Symmetric Difference Update\n",
    "\n",
    "Create two sets and update the first set with the symmetric difference of the two sets. Print the modified first set.\n",
    "\n",
    "### Assignment 14: Set Membership Testing\n",
    "\n",
    "Create a set and test if certain elements are present in the set. Print the results.\n",
    "\n",
    "### Assignment 15: Set of Tuples\n",
    "\n",
    "Create a set containing tuples, where each tuple contains two elements. Print the set."
   ]
  },
  {
   "cell_type": "markdown",
   "id": "f7fd0344",
   "metadata": {},
   "source": [
    "## Lesson 3.3: Sets\n",
    "### Assignment 1: Creating and Accessing Sets\n",
    "\n",
    "Create a set with the first 10 positive integers. Print the set.\n",
    "\n",
    "### Assignment 2: Adding and Removing Elements\n",
    "\n",
    "Add the number 11 to the set created in Assignment 1. Then remove the number 1 from the set. Print the modified set.\n",
    "\n"
   ]
  },
  {
   "cell_type": "code",
   "execution_count": 1,
   "metadata": {},
   "outputs": [
    {
     "name": "stdout",
     "output_type": "stream",
     "text": [
      "{1, 2, 3, 4, 5, 6, 7, 8, 9, 10}\n"
     ]
    }
   ],
   "source": [
    "s = set(range(1,11))\n",
    "print(s)"
   ]
  },
  {
   "cell_type": "code",
   "execution_count": 2,
   "id": "32b7fabc",
   "metadata": {},
   "outputs": [
    {
     "name": "stdout",
     "output_type": "stream",
     "text": [
      "{2, 3, 4, 5, 6, 7, 8, 9, 10, 11}\n"
     ]
    }
   ],
   "source": [
    "s.add(11)\n",
    "s.remove(1)\n",
    "print(s)"
   ]
  },
  {
   "cell_type": "markdown",
   "id": "8462a6d4",
   "metadata": {},
   "source": [
    "\n",
    "### Assignment 3: Set Operations\n",
    "\n",
    "Create two sets: one with the first 5 positive integers and another with the first 5 even integers. Perform and print the results of union, intersection, difference, and symmetric difference operations on these sets.\n",
    "\n"
   ]
  },
  {
   "cell_type": "code",
   "execution_count": 6,
   "id": "cb50efcb",
   "metadata": {},
   "outputs": [
    {
     "name": "stdout",
     "output_type": "stream",
     "text": [
      "Union: {1, 2, 3, 4, 5, 6, 8, 10}\n",
      "Intersection: {2, 4}\n",
      "Difference: {1, 3, 5}\n",
      "Symmetric Difference: {1, 3, 5, 6, 8, 10}\n"
     ]
    }
   ],
   "source": [
    "set1 = {1,2,3,4,5}\n",
    "set2 = set(range(2,11,2))\n",
    "print(f\"Union: {set1 | set2}\")\n",
    "print(f\"Intersection: {set1 & set2}\")\n",
    "print(f\"Difference: {set1 - set2}\")\n",
    "print(f\"Symmetric Difference: {set1 ^ set2}\")"
   ]
  },
  {
   "cell_type": "markdown",
   "id": "f667ca07",
   "metadata": {},
   "source": [
    "\n",
    "### Assignment 4: Set Comprehensions\n",
    "\n",
    "Create a new set containing the squares of the first 10 positive integers using a set comprehension. Print the new set.\n",
    "\n"
   ]
  },
  {
   "cell_type": "code",
   "execution_count": 7,
   "id": "470fd4ba",
   "metadata": {},
   "outputs": [
    {
     "name": "stdout",
     "output_type": "stream",
     "text": [
      "{64, 1, 4, 36, 100, 9, 16, 49, 81, 25}\n"
     ]
    }
   ],
   "source": [
    "squares = {x**2 for x in range(1,11)}\n",
    "print(squares)"
   ]
  },
  {
   "cell_type": "markdown",
   "id": "a72b858d",
   "metadata": {},
   "source": [
    "\n",
    "### Assignment 5: Filtering Sets\n",
    "\n",
    "Create a new set containing only the even numbers from the set created in Assignment 1 using a set comprehension. Print the new set.\n",
    "\n",
    "### Assignment 6: Set Methods\n",
    "\n",
    "Create a set with duplicate elements and remove the duplicates using set methods. Print the modified set.\n"
   ]
  },
  {
   "cell_type": "code",
   "execution_count": 12,
   "id": "be4c9183",
   "metadata": {},
   "outputs": [
    {
     "name": "stdout",
     "output_type": "stream",
     "text": [
      "Assignment 1 set: {2, 3, 4, 5, 6, 7, 8, 9, 10, 11}\n",
      "Even set : {2, 4, 6, 8, 10}\n"
     ]
    }
   ],
   "source": [
    "print(f\"Assignment 1 set: {s}\")\n",
    "even_set = {x for x in s if x%2==0}\n",
    "print(f\"Even set : {even_set}\")"
   ]
  },
  {
   "cell_type": "code",
   "execution_count": 14,
   "id": "d8d96d70",
   "metadata": {},
   "outputs": [
    {
     "name": "stdout",
     "output_type": "stream",
     "text": [
      "{1, 2, 3, 4, 5}\n",
      "{2, 3, 4, 5, 6, 7, 8, 9, 10, 11}\n"
     ]
    }
   ],
   "source": [
    "dup_set = {1,2,2,3,4,4,4,5}\n",
    "print(dup_set)\n",
    "unique_set = set(s)\n",
    "print(unique_set)"
   ]
  },
  {
   "cell_type": "markdown",
   "id": "2f782732",
   "metadata": {},
   "source": [
    "\n",
    "### Assignment 7: Subsets and Supersets\n",
    "\n",
    "Create two sets: one with the first 5 positive integers and another with the first 3 positive integers. Check if the second set is a subset of the first set and if the first set is a superset of the second set. Print the results.\n",
    "\n"
   ]
  },
  {
   "cell_type": "code",
   "execution_count": 4,
   "id": "ad01dff2",
   "metadata": {},
   "outputs": [
    {
     "name": "stdout",
     "output_type": "stream",
     "text": [
      "Set 1: {1, 2, 3, 4, 5}\n",
      "Set 2: {1, 2, 3}\n",
      "Is set2 a subset of set1 : True\n",
      "Is set1 a superset of set2 : True\n"
     ]
    }
   ],
   "source": [
    "set1 = set(range(1,6))\n",
    "print(f\"Set 1: {set1}\")\n",
    "set2 = set(range(1,4))\n",
    "print(f\"Set 2: {set2}\")\n",
    "\n",
    "print(f\"Is set2 a subset of set1 : {set2.issubset(set1)}\")\n",
    "print(f\"Is set1 a superset of set2 : {set1.issuperset(set2)}\")"
   ]
  },
  {
   "cell_type": "markdown",
   "id": "957942c9",
   "metadata": {},
   "source": [
    "\n",
    "### Assignment 8: Frozenset\n",
    "\n",
    "Create a frozenset with the first 5 positive integers. Print the frozenset.\n"
   ]
  },
  {
   "cell_type": "code",
   "execution_count": 5,
   "id": "16a52e5d",
   "metadata": {},
   "outputs": [
    {
     "name": "stdout",
     "output_type": "stream",
     "text": [
      "frozenset({1, 2, 3, 4, 5})\n"
     ]
    }
   ],
   "source": [
    "fs = frozenset(range(1,6))\n",
    "print(fs)"
   ]
  },
  {
   "cell_type": "markdown",
   "id": "eba22f16",
   "metadata": {},
   "source": [
    "\n",
    "### Assignment 9: Set and List Conversion\n",
    "\n",
    "Create a set with the first 5 positive integers. Convert it to a list, append the number 6, and convert it back to a set. Print the resulting set.\n",
    "\n",
    "### Assignment 10: Set and Dictionary\n",
    "\n",
    "Create a dictionary with set keys and integer values. Print the dictionary.\n"
   ]
  },
  {
   "cell_type": "code",
   "execution_count": 9,
   "id": "da72a623",
   "metadata": {},
   "outputs": [
    {
     "name": "stdout",
     "output_type": "stream",
     "text": [
      "[1, 2, 3, 4, 5]\n",
      "{1, 2, 3, 4, 5, 6}\n"
     ]
    }
   ],
   "source": [
    "set1 = {1,2,3,4,5}\n",
    "lst = list(set1)\n",
    "print(lst)\n",
    "lst.append(6)\n",
    "set1 = set(lst)\n",
    "print(set1)"
   ]
  },
  {
   "cell_type": "code",
   "execution_count": 11,
   "id": "a624ab81",
   "metadata": {},
   "outputs": [
    {
     "name": "stdout",
     "output_type": "stream",
     "text": [
      "{frozenset({1, 2}): 3, frozenset({4, 5}): 6, frozenset({8, 7}): 9}\n"
     ]
    }
   ],
   "source": [
    "dict_set = {\n",
    "    frozenset({1,2}):3,\n",
    "    frozenset({4,5}):6,\n",
    "    frozenset({7,8}):9\n",
    "}\n",
    "print(dict_set)"
   ]
  },
  {
   "cell_type": "markdown",
   "id": "346322e3",
   "metadata": {},
   "source": [
    "\n",
    "### Assignment 11: Iterating Over Sets\n",
    "\n",
    "Create a set and iterate over the elements, printing each element.\n"
   ]
  },
  {
   "cell_type": "code",
   "execution_count": 14,
   "id": "e25ba992",
   "metadata": {},
   "outputs": [
    {
     "name": "stdout",
     "output_type": "stream",
     "text": [
      "1\n",
      "2\n",
      "3\n",
      "4\n",
      "5\n"
     ]
    }
   ],
   "source": [
    "s = set(range(1,6))\n",
    "for elem in s:\n",
    "    print(elem)"
   ]
  },
  {
   "cell_type": "markdown",
   "id": "25b0a239",
   "metadata": {},
   "source": [
    "\n",
    "### Assignment 12: Removing Elements from Sets\n",
    "\n",
    "Create a set and remove elements from it until it is empty. Print the set after each removal.\n"
   ]
  },
  {
   "cell_type": "code",
   "execution_count": 13,
   "id": "e4673953",
   "metadata": {},
   "outputs": [
    {
     "name": "stdout",
     "output_type": "stream",
     "text": [
      "{2, 3, 4, 5}\n",
      "{3, 4, 5}\n",
      "{4, 5}\n",
      "{5}\n",
      "set()\n"
     ]
    }
   ],
   "source": [
    "s = set(range(1,6))\n",
    "while s:\n",
    "    s.pop()\n",
    "    print(s)"
   ]
  },
  {
   "cell_type": "markdown",
   "id": "be6d69f3",
   "metadata": {},
   "source": [
    "\n",
    "### Assignment 13: Set Symmetric Difference Update\n",
    "\n",
    "Create two sets and update the first set with the symmetric difference of the two sets. Print the modified first set.\n",
    "\n",
    "### Assignment 14: Set Membership Testing\n",
    "\n",
    "Create a set and test if certain elements are present in the set. Print the results.\n",
    "\n",
    "### Assignment 15: Set of Tuples\n",
    "\n",
    "Create a set containing tuples, where each tuple contains two elements. Print the set."
   ]
  },
  {
   "cell_type": "code",
   "execution_count": 15,
   "id": "d678983c",
   "metadata": {},
   "outputs": [
    {
     "name": "stdout",
     "output_type": "stream",
     "text": [
      "{1, 2, 7, 8}\n"
     ]
    }
   ],
   "source": [
    "set1 = {1,2,3,4,5,6}\n",
    "set2 = {3,4,5,6,7,8}\n",
    "\n",
    "set1.symmetric_difference_update(set2)\n",
    "print(set1)"
   ]
  },
  {
   "cell_type": "code",
   "execution_count": 16,
   "id": "34d39744",
   "metadata": {},
   "outputs": [
    {
     "name": "stdout",
     "output_type": "stream",
     "text": [
      "True\n",
      "False\n"
     ]
    }
   ],
   "source": [
    "s = set(range(1,6))\n",
    "print(3 in s)\n",
    "print(6 in s)"
   ]
  },
  {
   "cell_type": "code",
   "execution_count": 17,
   "id": "f9123a90",
   "metadata": {},
   "outputs": [
    {
     "name": "stdout",
     "output_type": "stream",
     "text": [
      "{(1, 2), (3, 4), (5, 6)}\n"
     ]
    }
   ],
   "source": [
    "s = {(1,2) , (3,4) , (5,6)}\n",
    "print(s)"
   ]
  }
 ],
 "metadata": {
  "kernelspec": {
   "display_name": "Python 3",
   "language": "python",
   "name": "python3"
  },
  "language_info": {
   "codemirror_mode": {
    "name": "ipython",
    "version": 3
   },
   "file_extension": ".py",
   "mimetype": "text/x-python",
   "name": "python",
   "nbconvert_exporter": "python",
   "pygments_lexer": "ipython3",
   "version": "3.12.0"
  }
 },
 "nbformat": 4,
 "nbformat_minor": 5
}
