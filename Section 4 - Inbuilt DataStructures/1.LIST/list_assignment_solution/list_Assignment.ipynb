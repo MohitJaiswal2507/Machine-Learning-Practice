{
 "cells": [
  {
   "cell_type": "markdown",
   "id": "685dce45",
   "metadata": {},
   "source": [
    "\n",
    "## Lesson 3.1: Lists\n",
    "### Assignment 1: Creating and Accessing Lists\n",
    "\n",
    "Create a list of the first 20 positive integers. Print the list.\n"
   ]
  },
  {
   "cell_type": "code",
   "execution_count": 2,
   "id": "3cc9f9b0",
   "metadata": {},
   "outputs": [
    {
     "name": "stdout",
     "output_type": "stream",
     "text": [
      "[1, 2, 3, 4, 5, 6, 7, 8, 9, 10, 11, 12, 13, 14, 15, 16, 17, 18, 19, 20]\n",
      "(0, 1) (1, 2) (2, 3) (3, 4) (4, 5) (5, 6) (6, 7) (7, 8) (8, 9) (9, 10) (10, 11) (11, 12) (12, 13) (13, 14) (14, 15) (15, 16) (16, 17) (17, 18) (18, 19) (19, 20) "
     ]
    }
   ],
   "source": [
    "lst = list(range(1,21))\n",
    "print(lst)\n",
    "\n",
    "for i in enumerate(lst):\n",
    "    print(i,end=\" \")\n",
    "# print(lst[10])\n"
   ]
  },
  {
   "cell_type": "markdown",
   "id": "b6311a2e",
   "metadata": {},
   "source": [
    "\n",
    "### Assignment 2: Accessing List Elements\n",
    "\n",
    "Print the first, middle, and last elements of the list created in Assignment 1.\n",
    "\n"
   ]
  },
  {
   "cell_type": "code",
   "execution_count": 5,
   "id": "42ed96d1",
   "metadata": {},
   "outputs": [
    {
     "name": "stdout",
     "output_type": "stream",
     "text": [
      "First Element:  1\n",
      "Middle Element:  11\n",
      "Last Element:  20\n"
     ]
    }
   ],
   "source": [
    "print(\"First Element: \",lst[0])\n",
    "print(\"Middle Element: \",lst[len(lst)//2])\n",
    "print(\"Last Element: \",lst[-1])\n"
   ]
  },
  {
   "cell_type": "markdown",
   "id": "b6b42738",
   "metadata": {},
   "source": [
    "\n",
    "\n",
    "### Assignment 3: List Slicing\n",
    "\n",
    "Print the first five elements, the last five elements, and the elements from index 5 to 15 of the list created in Assignment 1."
   ]
  },
  {
   "cell_type": "code",
   "execution_count": 9,
   "id": "66ea4b59",
   "metadata": {},
   "outputs": [
    {
     "name": "stdout",
     "output_type": "stream",
     "text": [
      "First five elements are :  [1, 2, 3, 4, 5, 6]\n",
      "LAST five elements are :  [16, 17, 18, 19, 20]\n",
      "Element from index 5 to 15 :  [6, 7, 8, 9, 10, 11, 12, 13, 14, 15, 16]\n"
     ]
    }
   ],
   "source": [
    "print(\"First five elements are : \",lst[:6])\n",
    "print(\"LAST five elements are : \",lst[-5:])\n",
    "print(\"Element from index 5 to 15 : \",lst[5:16])\n"
   ]
  },
  {
   "cell_type": "markdown",
   "id": "426e2e24",
   "metadata": {},
   "source": [
    "\n",
    "### Assignment 4: List Comprehensions\n",
    "\n",
    "Create a new list containing the squares of the first 10 positive integers using a list comprehension. Print the new list.\n"
   ]
  },
  {
   "cell_type": "code",
   "execution_count": 11,
   "id": "6c8379ee",
   "metadata": {},
   "outputs": [
    {
     "name": "stdout",
     "output_type": "stream",
     "text": [
      "[1, 4, 9, 16, 25, 36, 49, 64, 81, 100]\n"
     ]
    }
   ],
   "source": [
    "new_lst = [x**2 for x in range(1,11)]\n",
    "print(new_lst)"
   ]
  },
  {
   "cell_type": "markdown",
   "id": "9512d010",
   "metadata": {},
   "source": [
    "\n",
    "### Assignment 5: Filtering Lists\n",
    "\n",
    "Create a new list containing only the even numbers from the list created in Assignment 1 using a list comprehension. Print the new list.\n"
   ]
  },
  {
   "cell_type": "code",
   "execution_count": 13,
   "id": "73675238",
   "metadata": {},
   "outputs": [
    {
     "data": {
      "text/plain": [
       "[1, 2, 3, 4, 5, 6, 7, 8, 9, 10, 11, 12, 13, 14, 15, 16, 17, 18, 19, 20]"
      ]
     },
     "execution_count": 13,
     "metadata": {},
     "output_type": "execute_result"
    }
   ],
   "source": [
    "lst"
   ]
  },
  {
   "cell_type": "code",
   "execution_count": 14,
   "id": "6d1ca18c",
   "metadata": {},
   "outputs": [
    {
     "name": "stdout",
     "output_type": "stream",
     "text": [
      "[2, 4, 6, 8, 10, 12, 14, 16, 18, 20]\n"
     ]
    }
   ],
   "source": [
    "lst2 = [x for x in lst if x%2==0]\n",
    "print(lst2)"
   ]
  },
  {
   "cell_type": "markdown",
   "id": "18659074",
   "metadata": {},
   "source": [
    "\n",
    "### Assignment 6: List Methods\n",
    "\n",
    "Create a list of random numbers and sort it in ascending and descending order. Remove the duplicates from the list and print the modified list.\n"
   ]
  },
  {
   "cell_type": "code",
   "execution_count": 21,
   "id": "85ada905",
   "metadata": {},
   "outputs": [
    {
     "name": "stdout",
     "output_type": "stream",
     "text": [
      "Original List: [19, 11, 20, 6, 2, 10, 13, 18, 1, 19, 3, 14, 18, 9, 13]\n",
      "Sorted List: [1, 2, 3, 6, 9, 10, 11, 13, 13, 14, 18, 18, 19, 19, 20]\n",
      "Reverse Sorted List: [20, 19, 19, 18, 18, 14, 13, 13, 11, 10, 9, 6, 3, 2, 1]\n",
      "Sorted list with no duplicates: [1, 2, 3, 6, 9, 10, 11, 13, 14, 18, 19, 20]\n"
     ]
    }
   ],
   "source": [
    "import random\n",
    "\n",
    "random_numbers = [random.randint(1,20) for _ in range(15)]\n",
    "print(f\"Original List: {random_numbers}\")\n",
    "\n",
    "sorted_no = sorted(random_numbers)\n",
    "print(f\"Sorted List: {sorted_no}\")\n",
    "\n",
    "rev_sorted_no = sorted(random_numbers , reverse=True)\n",
    "print(f\"Reverse Sorted List: {rev_sorted_no}\")\n",
    "\n",
    "unique_numbers = list(set(random_numbers))\n",
    "print(f\"Sorted list with no duplicates: {unique_numbers}\")\n"
   ]
  },
  {
   "cell_type": "markdown",
   "id": "a5795b25",
   "metadata": {},
   "source": [
    "\n",
    "### Assignment 7: Nested Lists\n",
    "\n",
    "Create a nested list representing a 3x3 matrix and print the matrix. Access and print the element at the second row and third column.\n"
   ]
  },
  {
   "cell_type": "code",
   "execution_count": 25,
   "metadata": {},
   "outputs": [
    {
     "name": "stdout",
     "output_type": "stream",
     "text": [
      "Matrix: \n",
      "(1, 2, 3)\n",
      "(4, 5, 6)\n",
      "(7, 8, 9)\n",
      "Element at 2nd row and 3rd col is 6\n"
     ]
    }
   ],
   "source": [
    "matrix = [\n",
    "    (1,2,3),\n",
    "    (4,5,6),\n",
    "    (7,8,9)\n",
    "]\n",
    "\n",
    "print(\"Matrix: \")\n",
    "\n",
    "for x in matrix:\n",
    "    print(x)\n",
    "    \n",
    "print(f\"Element at 2nd row and 3rd col is {matrix[1][2]}\")"
   ]
  },
  {
   "cell_type": "markdown",
   "id": "883da860",
   "metadata": {},
   "source": [
    "### Assignment 8: List of Dictionaries\n",
    "\n",
    "Create a list of dictionaries where each dictionary represents a student with keys 'name' and 'score'. Sort the list of dictionaries by the 'score' in descending order and print the sorted list."
   ]
  },
  {
   "cell_type": "code",
   "execution_count": 3,
   "id": "a42169f6",
   "metadata": {},
   "outputs": [
    {
     "name": "stdout",
     "output_type": "stream",
     "text": [
      "{'name': 'Naman', 'score': 88}\n",
      "{'name': 'Mohit', 'score': 65}\n",
      "{'name': 'Momo', 'score': 54}\n",
      "{'name': 'Abhi', 'score': 46}\n",
      "{'name': 'Vaibhav', 'score': 45}\n"
     ]
    }
   ],
   "source": [
    "students = [\n",
    "    {'name' : 'Naman' , 'score' : 88},\n",
    "    {'name' : 'Mohit' , 'score' : 65},\n",
    "    {'name' : 'Abhi' , 'score' : 46},\n",
    "    {'name' : 'Momo' , 'score' : 54},\n",
    "    {'name' : 'Vaibhav' , 'score' : 45},\n",
    "]\n",
    "\n",
    "sorted_students = sorted(students , key=lambda x:x['score'] , reverse=True)\n",
    "for students in sorted_students:\n",
    "    print(students)"
   ]
  },
  {
   "cell_type": "markdown",
   "id": "aa217869",
   "metadata": {},
   "source": [
    "### Assignment 9: Matrix Transposition\n",
    "\n",
    "Write a function that takes a 3x3 matrix (nested list) as input and returns its transpose. Print the original and transposed matrices."
   ]
  },
  {
   "cell_type": "code",
   "execution_count": 5,
   "id": "930d35b6",
   "metadata": {},
   "outputs": [
    {
     "name": "stdout",
     "output_type": "stream",
     "text": [
      "Original matrix: \n",
      "[1, 2, 3]\n",
      "[4, 5, 6]\n",
      "[7, 8, 9]\n",
      "Transposed matrix: \n",
      "[1, 4, 7]\n",
      "[2, 5, 8]\n",
      "[3, 6, 9]\n"
     ]
    }
   ],
   "source": [
    "matrix = [\n",
    "    [1,2,3],\n",
    "    [4,5,6],\n",
    "    [7,8,9],\n",
    "]\n",
    "\n",
    "print(\"Original matrix: \")\n",
    "for x in matrix:\n",
    "    print(x)\n",
    "\n",
    "def transposemat(matrix):\n",
    "    transposed_matrix = [[matrix[j][i] for j in range(len(matrix))] for i in range (len(matrix[0]))]\n",
    "    return transposed_matrix\n",
    "\n",
    "transposed_matrix = transposemat(matrix)\n",
    "print(\"Transposed matrix: \")\n",
    "for x in transposed_matrix:\n",
    "    print(x)"
   ]
  },
  {
   "cell_type": "markdown",
   "id": "aacdb414",
   "metadata": {},
   "source": [
    "### Assignment 10: Flattening a Nested List\n",
    "\n",
    "Write a function that takes a nested list and flattens it into a single list. Print the original and flattened lists.\n"
   ]
  },
  {
   "cell_type": "code",
   "execution_count": 7,
   "id": "365927a5",
   "metadata": {},
   "outputs": [
    {
     "name": "stdout",
     "output_type": "stream",
     "text": [
      "Original list :\n",
      "[[1, 2, 3], [4, 5, 6], [7, 8, 9]]\n",
      "flattened list: \n",
      "[1, 2, 3, 4, 5, 6, 7, 8, 9]\n"
     ]
    }
   ],
   "source": [
    "nested_list = [\n",
    "    [1, 2, 3],\n",
    "    [4, 5, 6],\n",
    "    [7, 8, 9]\n",
    "]\n",
    "def flatten_list(nested_list):\n",
    "    flat = [item for sublist in nested_list for item in sublist]\n",
    "    return flat\n",
    "flat = flatten_list(nested_list)\n",
    "\n",
    "print(\"Original list :\")\n",
    "print(nested_list)\n",
    "print(\"flattened list: \")\n",
    "print(flat)"
   ]
  },
  {
   "cell_type": "markdown",
   "id": "1d9f0f32",
   "metadata": {},
   "source": [
    "### Assignment 11: List Manipulation\n",
    "\n",
    "Create a list of the first 10 positive integers. Remove the elements at indices 2, 4, and 6, and insert the element '99' at index 5. Print the modified list."
   ]
  },
  {
   "cell_type": "code",
   "execution_count": 9,
   "id": "89f6fa1d",
   "metadata": {},
   "outputs": [
    {
     "name": "stdout",
     "output_type": "stream",
     "text": [
      "Original list: [1, 2, 3, 4, 5, 6, 7, 8, 9, 10] \n",
      "After modyfying : [1, 2, 4, 5, 7, 99, 8, 10]\n"
     ]
    }
   ],
   "source": [
    "lst = list(range(1,11))\n",
    "print(f\"Original list: {lst} \")\n",
    "\n",
    "del lst[2]\n",
    "del lst[4]\n",
    "del lst[6]\n",
    "\n",
    "lst.insert(5,99)\n",
    "print(f\"After modyfying : {lst}\")"
   ]
  },
  {
   "cell_type": "markdown",
   "id": "5e799fba",
   "metadata": {},
   "source": [
    "\n",
    "### Assignment 12: List Zipping\n",
    "\n",
    "Create two lists of the same length. Use the `zip` function to combine these lists into a list of tuples and print the result.\n"
   ]
  },
  {
   "cell_type": "code",
   "execution_count": 10,
   "id": "30ce2763",
   "metadata": {},
   "outputs": [
    {
     "name": "stdout",
     "output_type": "stream",
     "text": [
      "[(1, 'a'), (2, 'b'), (3, 'c'), (4, 'd'), (5, 'e')]\n"
     ]
    }
   ],
   "source": [
    "list1 = [1, 2, 3, 4, 5]\n",
    "list2 = ['a', 'b', 'c', 'd', 'e']\n",
    "zipped = list(zip(list1, list2))\n",
    "print(zipped)"
   ]
  },
  {
   "cell_type": "markdown",
   "id": "a2c72d31",
   "metadata": {},
   "source": [
    "\n",
    "### Assignment 13: List Reversal\n",
    "\n",
    "Write a function that takes a list and returns a new list with the elements in reverse order. Print the original and reversed lists.\n"
   ]
  },
  {
   "cell_type": "code",
   "execution_count": 11,
   "id": "e438a20d",
   "metadata": {},
   "outputs": [
    {
     "name": "stdout",
     "output_type": "stream",
     "text": [
      "Original list: [1, 2, 3, 4, 5]\n",
      "Reversed list: [5, 4, 3, 2, 1]\n"
     ]
    }
   ],
   "source": [
    "def reverse_list(lst):\n",
    "    return lst[::-1]\n",
    "\n",
    "original_list = [1, 2, 3, 4, 5]\n",
    "reversed_list = reverse_list(original_list)\n",
    "print(f\"Original list: {original_list}\")\n",
    "print(f\"Reversed list: {reversed_list}\")"
   ]
  },
  {
   "cell_type": "markdown",
   "id": "cf221c2d",
   "metadata": {},
   "source": [
    "\n",
    "### Assignment 14: List Rotation\n",
    "\n",
    "Write a function that rotates a list by n positions. Print the original and rotated lists."
   ]
  },
  {
   "cell_type": "code",
   "execution_count": 12,
   "id": "403c5f1f",
   "metadata": {},
   "outputs": [
    {
     "name": "stdout",
     "output_type": "stream",
     "text": [
      "Original list: [1, 2, 3, 4, 5]\n",
      "Rotated list: [3, 4, 5, 1, 2]\n"
     ]
    }
   ],
   "source": [
    "def rotate_list(lst , n):\n",
    "    return lst[n::]+lst[:n:]\n",
    "\n",
    "original_list = [1, 2, 3, 4, 5]\n",
    "rotated_list = rotate_list(original_list, 2)\n",
    "print(f\"Original list: {original_list}\")\n",
    "print(f\"Rotated list: {rotated_list}\")"
   ]
  },
  {
   "cell_type": "markdown",
   "id": "bb376207",
   "metadata": {},
   "source": [
    "\n",
    "\n",
    "### Assignment 15: List Intersection\n",
    "\n",
    "Write a function that takes two lists and returns a new list containing only the elements that are present in both lists. Print the intersected list.\n"
   ]
  },
  {
   "cell_type": "code",
   "execution_count": 13,
   "id": "6c70a588",
   "metadata": {},
   "outputs": [
    {
     "name": "stdout",
     "output_type": "stream",
     "text": [
      "List 1: [1, 2, 3, 4, 5]\n",
      "List 2: [3, 4, 5, 6, 7]\n",
      "Intersection: [3, 4, 5]\n"
     ]
    }
   ],
   "source": [
    "def list_intersection(lst1, lst2):\n",
    "    return [x for x in lst1 if x in lst2]\n",
    "\n",
    "list1 = [1, 2, 3, 4, 5]\n",
    "list2 = [3, 4, 5, 6, 7]\n",
    "intersection = list_intersection(list1, list2)\n",
    "print(f\"List 1: {list1}\")\n",
    "print(f\"List 2: {list2}\")\n",
    "print(f\"Intersection: {intersection}\")"
   ]
  }
 ],
 "metadata": {
  "kernelspec": {
   "display_name": "mllearning",
   "language": "python",
   "name": "python3"
  },
  "language_info": {
   "codemirror_mode": {
    "name": "ipython",
    "version": 3
   },
   "file_extension": ".py",
   "mimetype": "text/x-python",
   "name": "python",
   "nbconvert_exporter": "python",
   "pygments_lexer": "ipython3",
   "version": "3.9.19"
  }
 },
 "nbformat": 4,
 "nbformat_minor": 5
}
