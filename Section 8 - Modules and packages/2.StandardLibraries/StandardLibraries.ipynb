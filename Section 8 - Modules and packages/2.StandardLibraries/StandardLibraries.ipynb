{
 "cells": [
  {
   "cell_type": "markdown",
   "id": "b6702b8e",
   "metadata": {},
   "source": [
    "### Standard Library Overview\n",
    "\n",
    "Python's Standard Library is a vast collection of modules and packages that come bundled with Python,\n",
    "providing a wide range of functionalities out of the box. Here's an overview of some of the most commonly\n",
    "used modules and packages in the Python Standard Library."
   ]
  },
  {
   "cell_type": "code",
   "execution_count": 2,
   "id": "4aebfb64",
   "metadata": {},
   "outputs": [
    {
     "name": "stdout",
     "output_type": "stream",
     "text": [
      "array('i', [1, 2, 3, 4])\n"
     ]
    }
   ],
   "source": [
    "import array\n",
    "arr= array.array('i',[1,2,3,4])\n",
    "print(arr)"
   ]
  },
  {
   "cell_type": "code",
   "execution_count": 5,
   "id": "fddab5e7",
   "metadata": {},
   "outputs": [
    {
     "name": "stdout",
     "output_type": "stream",
     "text": [
      "7.0\n",
      "3.141592653589793\n"
     ]
    }
   ],
   "source": [
    "import math\n",
    "print(math.sqrt(49))\n",
    "print(math.pi)"
   ]
  },
  {
   "cell_type": "code",
   "execution_count": 10,
   "id": "3f8d845e",
   "metadata": {},
   "outputs": [
    {
     "name": "stdout",
     "output_type": "stream",
     "text": [
      "10\n",
      "23\n"
     ]
    }
   ],
   "source": [
    "import random \n",
    "print(random.randint(1,100))\n",
    "print(random.choice(['apple',[12,23,435],'*',23]))\n"
   ]
  },
  {
   "cell_type": "code",
   "execution_count": 13,
   "id": "874bc810",
   "metadata": {},
   "outputs": [
    {
     "name": "stdout",
     "output_type": "stream",
     "text": [
      "c:\\Users\\usern\\Downloads\\Compressed\\COURSES\\Machine-Learning-Practice\\Section 8 - Modules and packages\\2.StandardLibraries\n"
     ]
    }
   ],
   "source": [
    "import os\n",
    "print(os.getcwd())"
   ]
  },
  {
   "cell_type": "code",
   "execution_count": 14,
   "id": "29735de9",
   "metadata": {},
   "outputs": [],
   "source": [
    "os.mkdir('test-dir')"
   ]
  },
  {
   "cell_type": "code",
   "execution_count": 15,
   "id": "79456f05",
   "metadata": {},
   "outputs": [
    {
     "data": {
      "text/plain": [
       "'destination.txt'"
      ]
     },
     "execution_count": 15,
     "metadata": {},
     "output_type": "execute_result"
    }
   ],
   "source": [
    "#High level operations on files and collection of files\n",
    "import shutil\n",
    "shutil.copyfile('source.txt','destination.txt')"
   ]
  },
  {
   "cell_type": "code",
   "execution_count": 17,
   "id": "70e42918",
   "metadata": {},
   "outputs": [
    {
     "name": "stdout",
     "output_type": "stream",
     "text": [
      "{\"name\": \"Mohit \", \"age\": 22}\n",
      "<class 'str'>\n",
      "{'name': 'Mohit ', 'age': 22}\n",
      "<class 'dict'>\n"
     ]
    }
   ],
   "source": [
    "# DATA serialisation\n",
    "\n",
    "import json\n",
    "data = {'name' : 'Mohit ', 'age':22}\n",
    "\n",
    "json_str = json.dumps(data)\n",
    "print(json_str)\n",
    "print(type(json_str))\n",
    "\n",
    "parsed_data = json.loads(json_str)\n",
    "print(parsed_data)\n",
    "print(type(parsed_data))"
   ]
  },
  {
   "cell_type": "code",
   "execution_count": 23,
   "id": "a17daecb",
   "metadata": {},
   "outputs": [
    {
     "name": "stdout",
     "output_type": "stream",
     "text": [
      "['n', 'a', 'm', 'e']\n",
      "['a', 'g', 'e']\n",
      "['M', 'o', 'h', 'i', 't']\n",
      "['2', '2']\n"
     ]
    }
   ],
   "source": [
    "# csv\n",
    "\n",
    "import csv\n",
    "\n",
    "with open('example.csv' , mode='w',newline='')as file:\n",
    "    writer = csv.writer(file)\n",
    "    writer.writerows(['name' , 'age'])\n",
    "    writer.writerows(['Mohit' , '22'])\n",
    "    \n",
    "with open('example.csv' , mode='r')as file:\n",
    "    reader = csv.reader(file)\n",
    "    for row in reader:\n",
    "        print(row)"
   ]
  },
  {
   "cell_type": "code",
   "execution_count": 26,
   "id": "d7b33bb5",
   "metadata": {},
   "outputs": [
    {
     "name": "stdout",
     "output_type": "stream",
     "text": [
      "2025-09-07 13:50:00.360403\n",
      "2025-09-06 13:50:00.360403\n"
     ]
    }
   ],
   "source": [
    "#datetime\n",
    "\n",
    "from datetime import datetime,timedelta\n",
    "\n",
    "now = datetime.now()\n",
    "print(now)\n",
    "\n",
    "yesterday = now - timedelta(days=1)\n",
    "print(yesterday)"
   ]
  },
  {
   "cell_type": "code",
   "execution_count": 27,
   "id": "f004ff54",
   "metadata": {},
   "outputs": [
    {
     "name": "stdout",
     "output_type": "stream",
     "text": [
      "1757233253.2184193\n",
      "1757233255.2274826\n"
     ]
    }
   ],
   "source": [
    "# time\n",
    "\n",
    "import time\n",
    "\n",
    "print(time.time())\n",
    "time.sleep(2)\n",
    "print(time.time())"
   ]
  },
  {
   "cell_type": "code",
   "execution_count": 30,
   "id": "61eb238a",
   "metadata": {},
   "outputs": [
    {
     "name": "stdout",
     "output_type": "stream",
     "text": [
      "123\n"
     ]
    }
   ],
   "source": [
    "# Regular expression\n",
    "\n",
    "import re\n",
    "\n",
    "pattern = '\\d+'\n",
    "text = 'there are 123 apples'\n",
    "match = re.search(pattern,text)\n",
    "print(match.group())"
   ]
  }
 ],
 "metadata": {
  "kernelspec": {
   "display_name": "mllearning",
   "language": "python",
   "name": "python3"
  },
  "language_info": {
   "codemirror_mode": {
    "name": "ipython",
    "version": 3
   },
   "file_extension": ".py",
   "mimetype": "text/x-python",
   "name": "python",
   "nbconvert_exporter": "python",
   "pygments_lexer": "ipython3",
   "version": "3.9.19"
  }
 },
 "nbformat": 4,
 "nbformat_minor": 5
}
