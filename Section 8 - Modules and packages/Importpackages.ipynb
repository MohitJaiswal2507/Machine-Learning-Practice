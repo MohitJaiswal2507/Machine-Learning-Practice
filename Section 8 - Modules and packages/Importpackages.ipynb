{
 "cells": [
  {
   "cell_type": "markdown",
   "id": "e019b232",
   "metadata": {},
   "source": [
    "### Modules and packages helps organize and reuse the code\n"
   ]
  },
  {
   "cell_type": "code",
   "execution_count": 3,
   "id": "7f9a56ba",
   "metadata": {},
   "outputs": [
    {
     "name": "stdout",
     "output_type": "stream",
     "text": [
      "4.0\n",
      "1.7320508075688772\n"
     ]
    }
   ],
   "source": [
    "from math import sqrt\n",
    "print(sqrt(16))\n",
    "print(sqrt(3))\n"
   ]
  },
  {
   "cell_type": "code",
   "execution_count": 6,
   "id": "a103c5e5",
   "metadata": {},
   "outputs": [
    {
     "name": "stdout",
     "output_type": "stream",
     "text": [
      "5\n",
      "2\n"
     ]
    }
   ],
   "source": [
    "from package.maths import addition,subtraction\n",
    "print(addition(2,3))\n",
    "print(subtraction(6,4))"
   ]
  },
  {
   "cell_type": "code",
   "execution_count": 8,
   "id": "f451e384",
   "metadata": {},
   "outputs": [
    {
     "name": "stdout",
     "output_type": "stream",
     "text": [
      "16\n"
     ]
    }
   ],
   "source": [
    "from package.subpackages.mult import multiplication\n",
    "print(multiplication(8,2))"
   ]
  }
 ],
 "metadata": {
  "kernelspec": {
   "display_name": "mllearning",
   "language": "python",
   "name": "python3"
  },
  "language_info": {
   "codemirror_mode": {
    "name": "ipython",
    "version": 3
   },
   "file_extension": ".py",
   "mimetype": "text/x-python",
   "name": "python",
   "nbconvert_exporter": "python",
   "pygments_lexer": "ipython3",
   "version": "3.9.19"
  }
 },
 "nbformat": 4,
 "nbformat_minor": 5
}
