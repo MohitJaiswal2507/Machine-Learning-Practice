{
 "cells": [
  {
   "cell_type": "markdown",
   "id": "8a5c99d5",
   "metadata": {},
   "source": [
    "#### Map() Function in Python\n",
    "\n",
    "It applies a given function to all the items in an input list or any other iterable, and returns a\n",
    "map object an iterator."
   ]
  },
  {
   "cell_type": "code",
   "execution_count": 3,
   "id": "358d51ac",
   "metadata": {},
   "outputs": [
    {
     "data": {
      "text/plain": [
       "100"
      ]
     },
     "execution_count": 3,
     "metadata": {},
     "output_type": "execute_result"
    }
   ],
   "source": [
    "def square(x):\n",
    "    return x*x\n",
    "\n",
    "square(10)"
   ]
  },
  {
   "cell_type": "code",
   "execution_count": null,
   "id": "d2a38ded",
   "metadata": {},
   "outputs": [
    {
     "data": {
      "text/plain": [
       "[1, 4, 9, 16, 25, 36]"
      ]
     },
     "execution_count": 6,
     "metadata": {},
     "output_type": "execute_result"
    }
   ],
   "source": [
    "number = [1,2,3,4,5,6]\n",
    "\n",
    "map(square , number)\n",
    "list(map(square , number)) # syntax = map(function , list)"
   ]
  },
  {
   "cell_type": "code",
   "execution_count": 7,
   "id": "e9a5ac49",
   "metadata": {},
   "outputs": [
    {
     "data": {
      "text/plain": [
       "[1, 4, 9, 16, 25, 36, 49, 64, 81, 100]"
      ]
     },
     "execution_count": 7,
     "metadata": {},
     "output_type": "execute_result"
    }
   ],
   "source": [
    "## lambda function with map\n",
    "numbers = [1,2,3,4,5,6,7,8,9,10]\n",
    "list(map(lambda x:x*x , numbers))"
   ]
  },
  {
   "cell_type": "code",
   "execution_count": 10,
   "id": "e44104a0",
   "metadata": {},
   "outputs": [
    {
     "name": "stdout",
     "output_type": "stream",
     "text": [
      "[5, 7, 9]\n"
     ]
    }
   ],
   "source": [
    "### MAP multiple iterators\n",
    "number1 = [1,2,3]\n",
    "number2 = [4,5,6]\n",
    "\n",
    "added_numbers=list(map(lambda x,y:x+y,number1,number2))\n",
    "print(added_numbers)\n"
   ]
  },
  {
   "cell_type": "code",
   "execution_count": 11,
   "id": "7ba2a8e6",
   "metadata": {},
   "outputs": [
    {
     "name": "stdout",
     "output_type": "stream",
     "text": [
      "[1, 2, 3, 4, 5, 6]\n"
     ]
    }
   ],
   "source": [
    "## map() to convert a list of strings to int\n",
    "str_numbers = ['1','2','3','4','5','6']\n",
    "int_numbers = list(map(int , str_numbers ))\n",
    "\n",
    "print(int_numbers)"
   ]
  },
  {
   "cell_type": "code",
   "execution_count": null,
   "id": "a2dcfa12",
   "metadata": {},
   "outputs": [],
   "source": [
    " "
   ]
  },
  {
   "cell_type": "code",
   "execution_count": null,
   "id": "9b0faa7f",
   "metadata": {},
   "outputs": [],
   "source": []
  }
 ],
 "metadata": {
  "kernelspec": {
   "display_name": "mllearning",
   "language": "python",
   "name": "python3"
  },
  "language_info": {
   "codemirror_mode": {
    "name": "ipython",
    "version": 3
   },
   "file_extension": ".py",
   "mimetype": "text/x-python",
   "name": "python",
   "nbconvert_exporter": "python",
   "pygments_lexer": "ipython3",
   "version": "3.9.19"
  }
 },
 "nbformat": 4,
 "nbformat_minor": 5
}
