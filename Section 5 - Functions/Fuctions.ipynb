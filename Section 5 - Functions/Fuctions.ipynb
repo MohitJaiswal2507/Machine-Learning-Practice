{
 "cells": [
  {
   "cell_type": "markdown",
   "metadata": {},
   "source": [
    "### POSITIONAL ARGUMENTS"
   ]
  },
  {
   "cell_type": "code",
   "execution_count": 1,
   "metadata": {},
   "outputs": [],
   "source": [
    "def print_no(*args): #can take any name instead of args but it is a common prac\n",
    "    for arg in args:\n",
    "        print(arg)"
   ]
  },
  {
   "cell_type": "code",
   "execution_count": 31,
   "metadata": {},
   "outputs": [
    {
     "name": "stdout",
     "output_type": "stream",
     "text": [
      "1\n",
      "2\n",
      "3\n",
      "4\n",
      "5\n",
      "Naman\n",
      "Mohit\n"
     ]
    }
   ],
   "source": [
    "print_no(1,2,3,4,5,'Naman','Mohit')"
   ]
  },
  {
   "cell_type": "markdown",
   "metadata": {},
   "source": [
    "### KEYWORD ARGUMENTS"
   ]
  },
  {
   "cell_type": "code",
   "execution_count": 32,
   "metadata": {},
   "outputs": [],
   "source": [
    "def print_details(**kwargs):\n",
    "    for key, value in kwargs.items():\n",
    "        print(f\"{key}:{value}\")\n"
   ]
  },
  {
   "cell_type": "code",
   "execution_count": 33,
   "metadata": {},
   "outputs": [
    {
     "name": "stdout",
     "output_type": "stream",
     "text": [
      "name:Mohit\n",
      "age:20\n",
      "Gender:Male\n"
     ]
    }
   ],
   "source": [
    "print_details(name=\"Mohit\" , age=\"20\" , Gender = 'Male')"
   ]
  },
  {
   "cell_type": "code",
   "execution_count": 34,
   "metadata": {},
   "outputs": [],
   "source": [
    "# COMBINING BOTH ARGUMENTS:\n",
    "\n",
    "def print_no(*args , **kwargs):\n",
    "    for val in args:\n",
    "        print(f\"Positional arguments: {val}\")\n",
    "\n",
    "    for key,value in kwargs.items():\n",
    "        print(f\"Key: {key} , value: {value}\")\n",
    "    "
   ]
  },
  {
   "cell_type": "code",
   "execution_count": 35,
   "metadata": {},
   "outputs": [
    {
     "name": "stdout",
     "output_type": "stream",
     "text": [
      "Positional arguments: 1\n",
      "Positional arguments: 2\n",
      "Positional arguments: 3\n",
      "Key: name , value: Naman\n",
      "Key: age , value: 20\n"
     ]
    }
   ],
   "source": [
    "print_no(1,2,3,name = 'Naman' , age = \"20\")"
   ]
  },
  {
   "cell_type": "markdown",
   "metadata": {},
   "source": [
    "## FUCTION EXAMPLES"
   ]
  },
  {
   "cell_type": "markdown",
   "metadata": {},
   "source": [
    "### Example1 : Temperature Conversion"
   ]
  },
  {
   "cell_type": "code",
   "execution_count": 36,
   "metadata": {},
   "outputs": [],
   "source": [
    "def convert_temp(temp , unit):\n",
    "    if unit== \"C\":\n",
    "        print (f\" Temperature from Celcius to Farenheit: {(temp*9/5)+32}\")\n",
    "    elif unit=='F':\n",
    "        print(f\" Temperature from Farenheit to Celcius:  {(temp-32)*5/9}\")"
   ]
  },
  {
   "cell_type": "code",
   "execution_count": 37,
   "metadata": {},
   "outputs": [
    {
     "name": "stdout",
     "output_type": "stream",
     "text": [
      " Temperature from Farenheit to Celcius:  4.444444444444445\n"
     ]
    }
   ],
   "source": [
    "convert_temp(40 , \"F\")"
   ]
  },
  {
   "cell_type": "code",
   "execution_count": 38,
   "metadata": {},
   "outputs": [
    {
     "name": "stdout",
     "output_type": "stream",
     "text": [
      " Temperature from Celcius to Farenheit: 77.0\n"
     ]
    }
   ],
   "source": [
    "convert_temp(25 , \"C\")"
   ]
  },
  {
   "cell_type": "markdown",
   "metadata": {},
   "source": [
    "### Example2 : Password Strength Checker"
   ]
  },
  {
   "cell_type": "code",
   "execution_count": 39,
   "metadata": {},
   "outputs": [],
   "source": [
    "def is_pass_strong(password):\n",
    "    if(len(password) < 8):\n",
    "        return False\n",
    "    if not any(char.isdigit() for char in password):\n",
    "        return False\n",
    "    if not any(char.isupper() for char in password):\n",
    "        return False\n",
    "    if not any(char in '$%@#&*()[{]}' for char in password):\n",
    "        return False\n",
    "    return True"
   ]
  },
  {
   "cell_type": "code",
   "execution_count": 40,
   "metadata": {},
   "outputs": [
    {
     "name": "stdout",
     "output_type": "stream",
     "text": [
      "False\n",
      "True\n"
     ]
    }
   ],
   "source": [
    "print(is_pass_strong(\"Weakpa$\"))\n",
    "print(is_pass_strong(\"Str@ngP@$s69\"))\n"
   ]
  },
  {
   "cell_type": "markdown",
   "metadata": {},
   "source": [
    "### Example3 - Cal the Total cost of items in Shopping Cart"
   ]
  },
  {
   "cell_type": "code",
   "execution_count": 42,
   "metadata": {},
   "outputs": [],
   "source": [
    "def total_cost(cart):\n",
    "    \"\"\"Calculate the total cost of items in the cart.\"\"\"\n",
    "    total = 0.0\n",
    "    for item in cart:\n",
    "        total += item['price'] * item['quantity']\n",
    "        return total\n",
    "    return total\n",
    "    "
   ]
  },
  {
   "cell_type": "code",
   "execution_count": 43,
   "metadata": {},
   "outputs": [],
   "source": [
    "cart = [\n",
    "    {\"name\" : 'banana' , \"price\" : 5 , \"quantity\" : 24},\n",
    "    {\"name\" : 'Egg' , \"price\" : 10 , \"quantity\" : 14},\n",
    "    {\"name\" : 'Milk' , \"price\" : 500 , \"quantity\" : 2}\n",
    "]"
   ]
  },
  {
   "cell_type": "code",
   "execution_count": 44,
   "metadata": {},
   "outputs": [
    {
     "data": {
      "text/plain": [
       "120.0"
      ]
     },
     "execution_count": 44,
     "metadata": {},
     "output_type": "execute_result"
    }
   ],
   "source": [
    "total_cost(cart)"
   ]
  },
  {
   "cell_type": "markdown",
   "metadata": {},
   "source": [
    "### Example4 - Check if a String is Palindrome"
   ]
  },
  {
   "cell_type": "code",
   "execution_count": 50,
   "metadata": {},
   "outputs": [
    {
     "name": "stdout",
     "output_type": "stream",
     "text": [
      "True\n",
      "False\n"
     ]
    }
   ],
   "source": [
    "def is_palindrome(txt):\n",
    "    txt = txt.lower().replace(\" \",\"\")\n",
    "    return txt==txt[::-1] \n",
    "    \n",
    "\n",
    "print(f\"{is_palindrome(\"Naman\")}\")\n",
    "print(f\"{is_palindrome(\"Is this a palindrome\")}\")"
   ]
  },
  {
   "cell_type": "markdown",
   "metadata": {},
   "source": [
    "### Example5 - Cal the factorials using Recursion"
   ]
  },
  {
   "cell_type": "code",
   "execution_count": 52,
   "metadata": {},
   "outputs": [],
   "source": [
    "def factorial(num):\n",
    "    if num == 1:\n",
    "        return 1\n",
    "    else:\n",
    "        return num * factorial(num - 1)"
   ]
  },
  {
   "cell_type": "code",
   "execution_count": 53,
   "metadata": {},
   "outputs": [
    {
     "data": {
      "text/plain": [
       "120"
      ]
     },
     "execution_count": 53,
     "metadata": {},
     "output_type": "execute_result"
    }
   ],
   "source": [
    "factorial(5)"
   ]
  },
  {
   "cell_type": "markdown",
   "metadata": {},
   "source": [
    "### Example6 - A function to read a file and count the freq of words\n"
   ]
  },
  {
   "cell_type": "code",
   "execution_count": 62,
   "metadata": {},
   "outputs": [],
   "source": [
    "def count_word_freq(file_path):\n",
    "    word_count = {}\n",
    "    with open(file_path , 'r')as file:\n",
    "        for line in file:\n",
    "            words = line.split()\n",
    "            for word in words:\n",
    "                word = word.lower().strip(\",.[{())]}$%^&*@!\")\n",
    "                word_count[word]  = word_count.get(word,0)+1\n",
    "                \n",
    "    return word_count"
   ]
  },
  {
   "cell_type": "code",
   "execution_count": 63,
   "metadata": {},
   "outputs": [
    {
     "name": "stdout",
     "output_type": "stream",
     "text": [
      "{'hello': 1, 'this': 2, 'is': 1, 'just': 1, 'an': 1, 'example': 1, 'of': 1, 'the': 1, 'test': 3, 'for': 1, '#': 1, '': 1}\n"
     ]
    }
   ],
   "source": [
    "filepath = 'sample.txt'\n",
    "word_frq = count_word_freq(filepath)\n",
    "print(word_frq)"
   ]
  },
  {
   "cell_type": "markdown",
   "metadata": {},
   "source": [
    "### Example7 - Validate Email"
   ]
  },
  {
   "cell_type": "code",
   "execution_count": 66,
   "metadata": {},
   "outputs": [
    {
     "name": "stdout",
     "output_type": "stream",
     "text": [
      "True\n",
      "False\n"
     ]
    }
   ],
   "source": [
    "import re\n",
    "\n",
    "def isvalid_email(email):\n",
    "    pattern = r'^[a-zA-Z0-9_.+-]+@[a-zA-Z0-9-]+\\.[a-zA-Z0-9-.]+$'\n",
    "    return re.match(pattern , email) is not None\n",
    "\n",
    "print(isvalid_email('test@example.com'))\n",
    "print(isvalid_email('invalid.com'))"
   ]
  }
 ],
 "metadata": {
  "kernelspec": {
   "display_name": "mllearning",
   "language": "python",
   "name": "python3"
  },
  "language_info": {
   "codemirror_mode": {
    "name": "ipython",
    "version": 3
   },
   "file_extension": ".py",
   "mimetype": "text/x-python",
   "name": "python",
   "nbconvert_exporter": "python",
   "pygments_lexer": "ipython3",
   "version": "3.13.1"
  }
 },
 "nbformat": 4,
 "nbformat_minor": 2
}
