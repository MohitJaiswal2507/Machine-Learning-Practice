{
 "cells": [
  {
   "cell_type": "code",
   "execution_count": 1,
   "id": "e47f3850",
   "metadata": {},
   "outputs": [],
   "source": [
    "import time , threading"
   ]
  },
  {
   "cell_type": "markdown",
   "id": "83d48948",
   "metadata": {},
   "source": [
    "### Without Threading"
   ]
  },
  {
   "cell_type": "code",
   "execution_count": 6,
   "id": "ba73863c",
   "metadata": {},
   "outputs": [
    {
     "name": "stdout",
     "output_type": "stream",
     "text": [
      "Numbers: 0\n",
      "Numbers: 1\n",
      "Numbers: 2\n",
      "Numbers: 3\n",
      "Numbers: 4\n",
      "Letters: a\n",
      "Letters: b\n",
      "Letters: c\n",
      "Letters: d\n",
      "Letters: e\n",
      "Finished Time: 25.006576776504517\n"
     ]
    }
   ],
   "source": [
    "def print_numbers():\n",
    "    for i in range(5):\n",
    "        time.sleep(2)\n",
    "        print(f\"Numbers: {i}\")\n",
    "        \n",
    "def print_letters():\n",
    "    for i in \"abcde\":\n",
    "        time.sleep(3)\n",
    "        print(f\"Letters: {i}\")\n",
    "\n",
    "t = time.time()      \n",
    "print_numbers()\n",
    "print_letters()\n",
    "\n",
    "finished_time = time.time() - t\n",
    "print(f\"Finished Time: {finished_time}\")\n",
    "        \n"
   ]
  },
  {
   "cell_type": "markdown",
   "id": "83c896f7",
   "metadata": {},
   "source": [
    "### With Threading\n",
    "\n",
    "##### WHEN to use multithreading\n",
    "* I/O bound tasks = Task that spends more time waiting for I o operation file operation or network request.(eg = file operations and network request)\n",
    "* Concurrent execution = when you want to improve the throughput of your application by performing multiple operation concurrently."
   ]
  },
  {
   "cell_type": "code",
   "execution_count": 5,
   "id": "5c9b4f5e",
   "metadata": {},
   "outputs": [
    {
     "name": "stdout",
     "output_type": "stream",
     "text": [
      "Numbers: 0\n",
      "Letters: a\n",
      "Numbers: 1\n",
      "Numbers: 2\n",
      "Letters: b\n",
      "Numbers: 3\n",
      "Letters: c\n",
      "Numbers: 4\n",
      "Letters: d\n",
      "Letters: e\n",
      "Finished Time: 15.008153200149536\n"
     ]
    }
   ],
   "source": [
    "def print_numbers():\n",
    "    for i in range(5):\n",
    "        time.sleep(2)\n",
    "        print(f\"Numbers: {i}\")\n",
    "        \n",
    "def print_letters():\n",
    "    for i in \"abcde\":\n",
    "        time.sleep(3)\n",
    "        print(f\"Letters: {i}\")\n",
    "\n",
    "# Creating 2 Threads \n",
    "thread1 = threading.Thread(target=print_numbers)\n",
    "thread2 = threading.Thread(target=print_letters)\n",
    "\n",
    "t = time.time()\n",
    "\n",
    "## Start the thread\n",
    "thread1.start()\n",
    "thread2.start()\n",
    "\n",
    "## Wait for the thread to complete\n",
    "thread1.join()\n",
    "thread2.join()\n",
    "\n",
    "finished_time = time.time() - t\n",
    "print(f\"Finished Time: {finished_time}\")\n"
   ]
  }
 ],
 "metadata": {
  "kernelspec": {
   "display_name": "venv1",
   "language": "python",
   "name": "python3"
  },
  "language_info": {
   "codemirror_mode": {
    "name": "ipython",
    "version": 3
   },
   "file_extension": ".py",
   "mimetype": "text/x-python",
   "name": "python",
   "nbconvert_exporter": "python",
   "pygments_lexer": "ipython3",
   "version": "3.13.7"
  }
 },
 "nbformat": 4,
 "nbformat_minor": 5
}
